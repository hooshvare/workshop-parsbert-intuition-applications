{
  "nbformat": 4,
  "nbformat_minor": 0,
  "metadata": {
    "colab": {
      "name": "04-ParsBERT.ipynb",
      "provenance": [],
      "collapsed_sections": [],
      "toc_visible": true
    },
    "kernelspec": {
      "name": "python3",
      "display_name": "Python 3"
    },
    "widgets": {
      "application/vnd.jupyter.widget-state+json": {
        "959cf5e7201047bbaacc35648b0fb6ab": {
          "model_module": "@jupyter-widgets/controls",
          "model_name": "HBoxModel",
          "state": {
            "_view_name": "HBoxView",
            "_dom_classes": [],
            "_model_name": "HBoxModel",
            "_view_module": "@jupyter-widgets/controls",
            "_model_module_version": "1.5.0",
            "_view_count": null,
            "_view_module_version": "1.5.0",
            "box_style": "",
            "layout": "IPY_MODEL_0d6fb0ea8bbe492f8d8e7510a077f1e4",
            "_model_module": "@jupyter-widgets/controls",
            "children": [
              "IPY_MODEL_685671e61ed04180af922cc7d6fae042",
              "IPY_MODEL_ecf1112f008e49c48cd1ae25ea0abc97"
            ]
          }
        },
        "0d6fb0ea8bbe492f8d8e7510a077f1e4": {
          "model_module": "@jupyter-widgets/base",
          "model_name": "LayoutModel",
          "state": {
            "_view_name": "LayoutView",
            "grid_template_rows": null,
            "right": null,
            "justify_content": null,
            "_view_module": "@jupyter-widgets/base",
            "overflow": null,
            "_model_module_version": "1.2.0",
            "_view_count": null,
            "flex_flow": null,
            "width": null,
            "min_width": null,
            "border": null,
            "align_items": null,
            "bottom": null,
            "_model_module": "@jupyter-widgets/base",
            "top": null,
            "grid_column": null,
            "overflow_y": null,
            "overflow_x": null,
            "grid_auto_flow": null,
            "grid_area": null,
            "grid_template_columns": null,
            "flex": null,
            "_model_name": "LayoutModel",
            "justify_items": null,
            "grid_row": null,
            "max_height": null,
            "align_content": null,
            "visibility": null,
            "align_self": null,
            "height": null,
            "min_height": null,
            "padding": null,
            "grid_auto_rows": null,
            "grid_gap": null,
            "max_width": null,
            "order": null,
            "_view_module_version": "1.2.0",
            "grid_template_areas": null,
            "object_position": null,
            "object_fit": null,
            "grid_auto_columns": null,
            "margin": null,
            "display": null,
            "left": null
          }
        },
        "685671e61ed04180af922cc7d6fae042": {
          "model_module": "@jupyter-widgets/controls",
          "model_name": "FloatProgressModel",
          "state": {
            "_view_name": "ProgressView",
            "style": "IPY_MODEL_86a6be51c7d648eeaea0bf6164ffe9e2",
            "_dom_classes": [],
            "description": "Downloading: 100%",
            "_model_name": "FloatProgressModel",
            "bar_style": "success",
            "max": 654226731,
            "_view_module": "@jupyter-widgets/controls",
            "_model_module_version": "1.5.0",
            "value": 654226731,
            "_view_count": null,
            "_view_module_version": "1.5.0",
            "orientation": "horizontal",
            "min": 0,
            "description_tooltip": null,
            "_model_module": "@jupyter-widgets/controls",
            "layout": "IPY_MODEL_eab6ce3c75ca45e5bd8790bd0aba7cd2"
          }
        },
        "ecf1112f008e49c48cd1ae25ea0abc97": {
          "model_module": "@jupyter-widgets/controls",
          "model_name": "HTMLModel",
          "state": {
            "_view_name": "HTMLView",
            "style": "IPY_MODEL_d1058509bc2e457aad89cddf21aecdae",
            "_dom_classes": [],
            "description": "",
            "_model_name": "HTMLModel",
            "placeholder": "​",
            "_view_module": "@jupyter-widgets/controls",
            "_model_module_version": "1.5.0",
            "value": " 654M/654M [00:22&lt;00:00, 28.9MB/s]",
            "_view_count": null,
            "_view_module_version": "1.5.0",
            "description_tooltip": null,
            "_model_module": "@jupyter-widgets/controls",
            "layout": "IPY_MODEL_465e7068eb2248c4a0dc2569c087ccfd"
          }
        },
        "86a6be51c7d648eeaea0bf6164ffe9e2": {
          "model_module": "@jupyter-widgets/controls",
          "model_name": "ProgressStyleModel",
          "state": {
            "_view_name": "StyleView",
            "_model_name": "ProgressStyleModel",
            "description_width": "initial",
            "_view_module": "@jupyter-widgets/base",
            "_model_module_version": "1.5.0",
            "_view_count": null,
            "_view_module_version": "1.2.0",
            "bar_color": null,
            "_model_module": "@jupyter-widgets/controls"
          }
        },
        "eab6ce3c75ca45e5bd8790bd0aba7cd2": {
          "model_module": "@jupyter-widgets/base",
          "model_name": "LayoutModel",
          "state": {
            "_view_name": "LayoutView",
            "grid_template_rows": null,
            "right": null,
            "justify_content": null,
            "_view_module": "@jupyter-widgets/base",
            "overflow": null,
            "_model_module_version": "1.2.0",
            "_view_count": null,
            "flex_flow": null,
            "width": null,
            "min_width": null,
            "border": null,
            "align_items": null,
            "bottom": null,
            "_model_module": "@jupyter-widgets/base",
            "top": null,
            "grid_column": null,
            "overflow_y": null,
            "overflow_x": null,
            "grid_auto_flow": null,
            "grid_area": null,
            "grid_template_columns": null,
            "flex": null,
            "_model_name": "LayoutModel",
            "justify_items": null,
            "grid_row": null,
            "max_height": null,
            "align_content": null,
            "visibility": null,
            "align_self": null,
            "height": null,
            "min_height": null,
            "padding": null,
            "grid_auto_rows": null,
            "grid_gap": null,
            "max_width": null,
            "order": null,
            "_view_module_version": "1.2.0",
            "grid_template_areas": null,
            "object_position": null,
            "object_fit": null,
            "grid_auto_columns": null,
            "margin": null,
            "display": null,
            "left": null
          }
        },
        "d1058509bc2e457aad89cddf21aecdae": {
          "model_module": "@jupyter-widgets/controls",
          "model_name": "DescriptionStyleModel",
          "state": {
            "_view_name": "StyleView",
            "_model_name": "DescriptionStyleModel",
            "description_width": "",
            "_view_module": "@jupyter-widgets/base",
            "_model_module_version": "1.5.0",
            "_view_count": null,
            "_view_module_version": "1.2.0",
            "_model_module": "@jupyter-widgets/controls"
          }
        },
        "465e7068eb2248c4a0dc2569c087ccfd": {
          "model_module": "@jupyter-widgets/base",
          "model_name": "LayoutModel",
          "state": {
            "_view_name": "LayoutView",
            "grid_template_rows": null,
            "right": null,
            "justify_content": null,
            "_view_module": "@jupyter-widgets/base",
            "overflow": null,
            "_model_module_version": "1.2.0",
            "_view_count": null,
            "flex_flow": null,
            "width": null,
            "min_width": null,
            "border": null,
            "align_items": null,
            "bottom": null,
            "_model_module": "@jupyter-widgets/base",
            "top": null,
            "grid_column": null,
            "overflow_y": null,
            "overflow_x": null,
            "grid_auto_flow": null,
            "grid_area": null,
            "grid_template_columns": null,
            "flex": null,
            "_model_name": "LayoutModel",
            "justify_items": null,
            "grid_row": null,
            "max_height": null,
            "align_content": null,
            "visibility": null,
            "align_self": null,
            "height": null,
            "min_height": null,
            "padding": null,
            "grid_auto_rows": null,
            "grid_gap": null,
            "max_width": null,
            "order": null,
            "_view_module_version": "1.2.0",
            "grid_template_areas": null,
            "object_position": null,
            "object_fit": null,
            "grid_auto_columns": null,
            "margin": null,
            "display": null,
            "left": null
          }
        },
        "256c6066879c4e039b00ee94e02cb51b": {
          "model_module": "@jupyter-widgets/controls",
          "model_name": "HBoxModel",
          "state": {
            "_view_name": "HBoxView",
            "_dom_classes": [],
            "_model_name": "HBoxModel",
            "_view_module": "@jupyter-widgets/controls",
            "_model_module_version": "1.5.0",
            "_view_count": null,
            "_view_module_version": "1.5.0",
            "box_style": "",
            "layout": "IPY_MODEL_1cbe23a3c72c407bb029a77fb05532c9",
            "_model_module": "@jupyter-widgets/controls",
            "children": [
              "IPY_MODEL_1c0eb94ee8244128a5afa3eaf2af030e",
              "IPY_MODEL_d534f49f5a2441de8d21c1fcdb6692cb"
            ]
          }
        },
        "1cbe23a3c72c407bb029a77fb05532c9": {
          "model_module": "@jupyter-widgets/base",
          "model_name": "LayoutModel",
          "state": {
            "_view_name": "LayoutView",
            "grid_template_rows": null,
            "right": null,
            "justify_content": null,
            "_view_module": "@jupyter-widgets/base",
            "overflow": null,
            "_model_module_version": "1.2.0",
            "_view_count": null,
            "flex_flow": null,
            "width": null,
            "min_width": null,
            "border": null,
            "align_items": null,
            "bottom": null,
            "_model_module": "@jupyter-widgets/base",
            "top": null,
            "grid_column": null,
            "overflow_y": null,
            "overflow_x": null,
            "grid_auto_flow": null,
            "grid_area": null,
            "grid_template_columns": null,
            "flex": null,
            "_model_name": "LayoutModel",
            "justify_items": null,
            "grid_row": null,
            "max_height": null,
            "align_content": null,
            "visibility": null,
            "align_self": null,
            "height": null,
            "min_height": null,
            "padding": null,
            "grid_auto_rows": null,
            "grid_gap": null,
            "max_width": null,
            "order": null,
            "_view_module_version": "1.2.0",
            "grid_template_areas": null,
            "object_position": null,
            "object_fit": null,
            "grid_auto_columns": null,
            "margin": null,
            "display": null,
            "left": null
          }
        },
        "1c0eb94ee8244128a5afa3eaf2af030e": {
          "model_module": "@jupyter-widgets/controls",
          "model_name": "FloatProgressModel",
          "state": {
            "_view_name": "ProgressView",
            "style": "IPY_MODEL_a56be4d13ca6468c846e92e5bd871158",
            "_dom_classes": [],
            "description": "Downloading: 100%",
            "_model_name": "FloatProgressModel",
            "bar_style": "success",
            "max": 473451616,
            "_view_module": "@jupyter-widgets/controls",
            "_model_module_version": "1.5.0",
            "value": 473451616,
            "_view_count": null,
            "_view_module_version": "1.5.0",
            "orientation": "horizontal",
            "min": 0,
            "description_tooltip": null,
            "_model_module": "@jupyter-widgets/controls",
            "layout": "IPY_MODEL_83300e0dc00e4d368d5fc3a4c2984895"
          }
        },
        "d534f49f5a2441de8d21c1fcdb6692cb": {
          "model_module": "@jupyter-widgets/controls",
          "model_name": "HTMLModel",
          "state": {
            "_view_name": "HTMLView",
            "style": "IPY_MODEL_fd82f64f93cb49e18a623d751088dc85",
            "_dom_classes": [],
            "description": "",
            "_model_name": "HTMLModel",
            "placeholder": "​",
            "_view_module": "@jupyter-widgets/controls",
            "_model_module_version": "1.5.0",
            "value": " 473M/473M [00:12&lt;00:00, 38.1MB/s]",
            "_view_count": null,
            "_view_module_version": "1.5.0",
            "description_tooltip": null,
            "_model_module": "@jupyter-widgets/controls",
            "layout": "IPY_MODEL_549b091d09654515b43a2161662e986a"
          }
        },
        "a56be4d13ca6468c846e92e5bd871158": {
          "model_module": "@jupyter-widgets/controls",
          "model_name": "ProgressStyleModel",
          "state": {
            "_view_name": "StyleView",
            "_model_name": "ProgressStyleModel",
            "description_width": "initial",
            "_view_module": "@jupyter-widgets/base",
            "_model_module_version": "1.5.0",
            "_view_count": null,
            "_view_module_version": "1.2.0",
            "bar_color": null,
            "_model_module": "@jupyter-widgets/controls"
          }
        },
        "83300e0dc00e4d368d5fc3a4c2984895": {
          "model_module": "@jupyter-widgets/base",
          "model_name": "LayoutModel",
          "state": {
            "_view_name": "LayoutView",
            "grid_template_rows": null,
            "right": null,
            "justify_content": null,
            "_view_module": "@jupyter-widgets/base",
            "overflow": null,
            "_model_module_version": "1.2.0",
            "_view_count": null,
            "flex_flow": null,
            "width": null,
            "min_width": null,
            "border": null,
            "align_items": null,
            "bottom": null,
            "_model_module": "@jupyter-widgets/base",
            "top": null,
            "grid_column": null,
            "overflow_y": null,
            "overflow_x": null,
            "grid_auto_flow": null,
            "grid_area": null,
            "grid_template_columns": null,
            "flex": null,
            "_model_name": "LayoutModel",
            "justify_items": null,
            "grid_row": null,
            "max_height": null,
            "align_content": null,
            "visibility": null,
            "align_self": null,
            "height": null,
            "min_height": null,
            "padding": null,
            "grid_auto_rows": null,
            "grid_gap": null,
            "max_width": null,
            "order": null,
            "_view_module_version": "1.2.0",
            "grid_template_areas": null,
            "object_position": null,
            "object_fit": null,
            "grid_auto_columns": null,
            "margin": null,
            "display": null,
            "left": null
          }
        },
        "fd82f64f93cb49e18a623d751088dc85": {
          "model_module": "@jupyter-widgets/controls",
          "model_name": "DescriptionStyleModel",
          "state": {
            "_view_name": "StyleView",
            "_model_name": "DescriptionStyleModel",
            "description_width": "",
            "_view_module": "@jupyter-widgets/base",
            "_model_module_version": "1.5.0",
            "_view_count": null,
            "_view_module_version": "1.2.0",
            "_model_module": "@jupyter-widgets/controls"
          }
        },
        "549b091d09654515b43a2161662e986a": {
          "model_module": "@jupyter-widgets/base",
          "model_name": "LayoutModel",
          "state": {
            "_view_name": "LayoutView",
            "grid_template_rows": null,
            "right": null,
            "justify_content": null,
            "_view_module": "@jupyter-widgets/base",
            "overflow": null,
            "_model_module_version": "1.2.0",
            "_view_count": null,
            "flex_flow": null,
            "width": null,
            "min_width": null,
            "border": null,
            "align_items": null,
            "bottom": null,
            "_model_module": "@jupyter-widgets/base",
            "top": null,
            "grid_column": null,
            "overflow_y": null,
            "overflow_x": null,
            "grid_auto_flow": null,
            "grid_area": null,
            "grid_template_columns": null,
            "flex": null,
            "_model_name": "LayoutModel",
            "justify_items": null,
            "grid_row": null,
            "max_height": null,
            "align_content": null,
            "visibility": null,
            "align_self": null,
            "height": null,
            "min_height": null,
            "padding": null,
            "grid_auto_rows": null,
            "grid_gap": null,
            "max_width": null,
            "order": null,
            "_view_module_version": "1.2.0",
            "grid_template_areas": null,
            "object_position": null,
            "object_fit": null,
            "grid_auto_columns": null,
            "margin": null,
            "display": null,
            "left": null
          }
        }
      }
    }
  },
  "cells": [
    {
      "cell_type": "code",
      "metadata": {
        "colab": {
          "base_uri": "https://localhost:8080/"
        },
        "id": "WMx1-gRpPPsm",
        "cellView": "form",
        "outputId": "3709ffcb-3473-430b-e81a-497323b8a879"
      },
      "source": [
        "#@title Install Required Packages\n",
        "\n",
        "# On your local machine, uncomment them\n",
        "# !pip install -qU torch\n",
        "# !pip install -qU numpy\n",
        "# !pip install -qU pandas\n",
        "\n",
        "!pip install -qU transformers"
      ],
      "execution_count": null,
      "outputs": [
        {
          "output_type": "stream",
          "text": [
            "\u001b[K     |████████████████████████████████| 1.8MB 8.5MB/s \n",
            "\u001b[K     |████████████████████████████████| 3.2MB 36.5MB/s \n",
            "\u001b[K     |████████████████████████████████| 890kB 59.4MB/s \n",
            "\u001b[?25h  Building wheel for sacremoses (setup.py) ... \u001b[?25l\u001b[?25hdone\n"
          ],
          "name": "stdout"
        }
      ]
    },
    {
      "cell_type": "code",
      "metadata": {
        "id": "4kgRfn5FTGrF",
        "cellView": "form"
      },
      "source": [
        "#@title Load Packages\n",
        "\n",
        "from transformers import AutoModelForMaskedLM, AutoTokenizer\n",
        "from transformers import pipeline\n",
        "\n",
        "from pprint import pprint\n",
        "from IPython import display"
      ],
      "execution_count": null,
      "outputs": []
    },
    {
      "cell_type": "markdown",
      "metadata": {
        "id": "CEcgJKwIKAa0"
      },
      "source": [
        "# ParsBERT\n",
        "\n",
        "\n",
        "<br/>\n",
        "<p align=\"center\">\n",
        "    <img src=\"https://hooshvare.s3.ir-thr-at1.arvanstorage.com/parsbert.png\" height=\"400\" />\n",
        "    <br/>\n",
        "    <em>Figure 1: ParsBERT: Transformer-based Model for Persian Language Understanding</em><br/>\n",
        "    <em><a href=\"https://github.com/hooshvare/parsbert\">https://github.com/hooshvare/parsbert</a></em>\n",
        "</p>\n",
        "<br/>\n",
        "\n"
      ]
    },
    {
      "cell_type": "markdown",
      "metadata": {
        "id": "R8cwTArENSOS"
      },
      "source": [
        "**ParsBERT** is a monolingual language model based on Google’s BERT architecture. This model is pre-trained on large Persian corpora with various writing styles from numerous subjects (e.g., scientific, novels, news).\n",
        "\n",
        "ParsBERT augmented during this one year from the preliminary version `1.0` to `2.0` and currently at version `3.0`. \n",
        "\n",
        "- [v1.0:](https://huggingface.co/HooshvareLab/bert-base-parsbert-uncased) It was trained on 3.9M documents, 73M sentences, and 1.3B words from online public resources Persian Wikidumps and MirasText and six other manually crawled text data from a various type of websites (BigBang Page scientific, Chetor lifestyle, Eligasht itinerary, Digikala digital magazine, Ted Talks general conversational, Books novels, storybooks, short stories from old to the contemporary era) for about 1920000 steps.\n",
        "- [v2.0:](https://huggingface.co/HooshvareLab/bert-fa-base-uncased) Same as the v1.0 but trained over 2575000 + 300000 steps, just vocabulary updated as well as optional tokens added for other down-stream tasks.\n",
        "- [v3.0:](https://huggingface.co/HooshvareLab/bert-fa-zwnj-base) The model was trained over half a million steps over various online public resources like Wikipedia, digikala, chetor, more than seven news stations, entertainment and fun channels, tweets, more than five technology hubs, and Virgool. It can tackle the zero-width non-joiner character for Persian writing."
      ]
    },
    {
      "cell_type": "markdown",
      "metadata": {
        "id": "_oZpYObpGtA3"
      },
      "source": [
        "# Evaluation\n",
        "\n",
        "ParsBERT is evaluated on three NLP downstream tasks: Sentiment Analysis (SA), Text Classification, and Named Entity Recognition (NER). For this matter and due to insufficient resources, two large datasets for SA and two for text classification were manually composed, which are available for public use and benchmarking. ParsBERT outperformed all other language models, including multilingual BERT and other hybrid deep learning models for all tasks, improving the state-of-the-art performance in Persian language modeling.\n",
        "\n",
        "## Results\n",
        "\n",
        "The following table summarizes the F1 score obtained by ParsBERT as compared to other models and architectures.\n",
        "\n",
        "\n",
        "### Sentiment Analysis (SA) task\n",
        "\n",
        "|          Dataset         | ParsBERT v2 | ParsBERT v1 | mBERT | DeepSentiPers |\n",
        "|:------------------------:|:-----------:|:-----------:|:-----:|:-------------:|\n",
        "|  Digikala User Comments  |    81.72    |    81.74*   | 80.74 |       -       |\n",
        "|  SnappFood User Comments |    87.98    |    88.12*   | 87.87 |       -       |\n",
        "|  SentiPers (Multi Class) |    71.31*   |    71.11    |   -   |     69.33     |\n",
        "| SentiPers (Binary Class) |    92.42*   |    92.13    |   -   |     91.98     |\n",
        "\n",
        "\n",
        "\n",
        "### Text Classification (TC) task\n",
        "\n",
        "|      Dataset      | ParsBERT v2 | ParsBERT v1 | mBERT |\n",
        "|:-----------------:|:-----------:|:-----------:|:-----:|\n",
        "| Digikala Magazine |    93.65*   |    93.59    | 90.72 |\n",
        "|    Persian News   |    97.44*   |    97.19    | 95.79 |\n",
        "\n",
        "\n",
        "### Named Entity Recognition (NER) Task\n",
        "\n",
        "| Dataset | ParsBERT v2 | ParsBERT v1 | mBERT | MorphoBERT | Beheshti-NER | LSTM-CRF | Rule-Based CRF | BiLSTM-CRF |\n",
        "|:-------:|:-----------:|:-----------:|:-----:|:----------:|:------------:|:--------:|:--------------:|:----------:|\n",
        "|  PEYMA  |    93.40*   |    93.10    | 86.64 |      -     |     90.59    |     -    |      84.00     |      -     |\n",
        "|  ARMAN  |    99.84*   |    98.79    | 95.89 |    89.9    |     84.03    |   86.55  |        -       |    77.45   |"
      ]
    },
    {
      "cell_type": "code",
      "metadata": {
        "id": "KTLKham1NyLE"
      },
      "source": [
        "versions = {\n",
        "    \"v1.0\": \"HooshvareLab/bert-base-parsbert-uncased\",\n",
        "    \"v2.0\": \"HooshvareLab/bert-fa-base-uncased\",\n",
        "    \"v3.0\": \"HooshvareLab/bert-fa-zwnj-base\",\n",
        "}"
      ],
      "execution_count": null,
      "outputs": []
    },
    {
      "cell_type": "markdown",
      "metadata": {
        "id": "5KFj8_voHi-F"
      },
      "source": [
        "# Comparisons"
      ]
    },
    {
      "cell_type": "markdown",
      "metadata": {
        "id": "A0bZMacDPW3u"
      },
      "source": [
        "## Comparison of Tokenizers"
      ]
    },
    {
      "cell_type": "code",
      "metadata": {
        "id": "P2A0H5M4Pa2Q"
      },
      "source": [
        "text = \"اصلاح نویسه‌ها و استفاده از نیم‌فاصله پردازش را آسان می‌کند\""
      ],
      "execution_count": null,
      "outputs": []
    },
    {
      "cell_type": "code",
      "metadata": {
        "colab": {
          "base_uri": "https://localhost:8080/"
        },
        "id": "mbtUu-unJ96G",
        "outputId": "d15761d0-75c1-4930-855d-76bf4980fa7a"
      },
      "source": [
        "tokenizer = AutoTokenizer.from_pretrained(versions[\"v1.0\"])\n",
        "print(\"\\n\".join(tokenizer.tokenize(text)))"
      ],
      "execution_count": null,
      "outputs": [
        {
          "output_type": "stream",
          "text": [
            "اصلاح\n",
            "نویسه\n",
            "##ها\n",
            "و\n",
            "استفاده\n",
            "از\n",
            "نیم\n",
            "##فاصله\n",
            "پردازش\n",
            "را\n",
            "اسان\n",
            "میکند\n"
          ],
          "name": "stdout"
        }
      ]
    },
    {
      "cell_type": "code",
      "metadata": {
        "id": "ZS3QwK9DI1FS",
        "colab": {
          "base_uri": "https://localhost:8080/"
        },
        "outputId": "4e53f3bf-a03c-4398-8141-e92c7fc331c3"
      },
      "source": [
        "tokenizer = AutoTokenizer.from_pretrained(versions[\"v2.0\"])\n",
        "print(\"\\n\".join(tokenizer.tokenize(text)))"
      ],
      "execution_count": null,
      "outputs": [
        {
          "output_type": "stream",
          "text": [
            "اصلاح\n",
            "نویسهها\n",
            "و\n",
            "استفاده\n",
            "از\n",
            "نیم\n",
            "##فاصله\n",
            "پردازش\n",
            "را\n",
            "اسان\n",
            "میکند\n"
          ],
          "name": "stdout"
        }
      ]
    },
    {
      "cell_type": "code",
      "metadata": {
        "colab": {
          "base_uri": "https://localhost:8080/"
        },
        "id": "VltdsEdPPhbY",
        "outputId": "41036936-fb5e-4bb1-cc19-5333b514dde9"
      },
      "source": [
        "tokenizer = AutoTokenizer.from_pretrained(versions[\"v3.0\"])\n",
        "print(\"\\n\".join(tokenizer.tokenize(text)))"
      ],
      "execution_count": null,
      "outputs": [
        {
          "output_type": "stream",
          "text": [
            "اصلاح\n",
            "نویسه\n",
            "[ZWNJ]\n",
            "ها\n",
            "و\n",
            "استفاده\n",
            "از\n",
            "نیم\n",
            "[ZWNJ]\n",
            "فاصله\n",
            "پردازش\n",
            "را\n",
            "آ\n",
            "##سان\n",
            "می\n",
            "[ZWNJ]\n",
            "کند\n"
          ],
          "name": "stdout"
        }
      ]
    },
    {
      "cell_type": "markdown",
      "metadata": {
        "id": "tpMoVbYdPjIj"
      },
      "source": [
        "## Comparison of Models"
      ]
    },
    {
      "cell_type": "code",
      "metadata": {
        "id": "UJj5IvmZPsdB"
      },
      "source": [
        "text1 = \"این کتاب__‌ها کجا هستند؟\"\n",
        "text2 = \"نمایشگرها بزرگترین مصرف‌کننده‌ی انرژی در گوشی‌های __ هستند.\"\n",
        "\n",
        "\n",
        "text1 = text1.replace(\"__\", \"[MASK]\")\n",
        "text2 = text2.replace(\"__\", \"[MASK]\")"
      ],
      "execution_count": null,
      "outputs": []
    },
    {
      "cell_type": "code",
      "metadata": {
        "colab": {
          "base_uri": "https://localhost:8080/"
        },
        "id": "g37oEgWiPSQS",
        "outputId": "d7e30784-7d98-458a-ecfe-7b4c4eb6a1ff"
      },
      "source": [
        "nlp_fill = pipeline(\"fill-mask\", model=versions[\"v1.0\"])\n",
        "\n",
        "output = nlp_fill(text1)\n",
        "pprint(output)\n",
        "print('-' * 90)\n",
        "output = nlp_fill(text2)\n",
        "pprint(output)"
      ],
      "execution_count": null,
      "outputs": [
        {
          "output_type": "stream",
          "text": [
            "Some weights of the model checkpoint at HooshvareLab/bert-base-parsbert-uncased were not used when initializing BertForMaskedLM: ['cls.seq_relationship.weight', 'cls.seq_relationship.bias']\n",
            "- This IS expected if you are initializing BertForMaskedLM from the checkpoint of a model trained on another task or with another architecture (e.g. initializing a BertForSequenceClassification model from a BertForPreTraining model).\n",
            "- This IS NOT expected if you are initializing BertForMaskedLM from the checkpoint of a model that you expect to be exactly identical (initializing a BertForSequenceClassification model from a BertForSequenceClassification model).\n"
          ],
          "name": "stderr"
        },
        {
          "output_type": "stream",
          "text": [
            "[{'score': 0.08914531022310257,\n",
            "  'sequence': 'این کتاب پرفروش ها کجا هستند ؟',\n",
            "  'token': 14989,\n",
            "  'token_str': 'پرفروش'},\n",
            " {'score': 0.05617669224739075,\n",
            "  'sequence': 'این کتاب بچه ها کجا هستند ؟',\n",
            "  'token': 5049,\n",
            "  'token_str': 'بچه'},\n",
            " {'score': 0.03774799406528473,\n",
            "  'sequence': 'این کتاب خواندنی ها کجا هستند ؟',\n",
            "  'token': 20156,\n",
            "  'token_str': 'خواندنی'},\n",
            " {'score': 0.014398455619812012,\n",
            "  'sequence': 'این کتاب داستان ها کجا هستند ؟',\n",
            "  'token': 4556,\n",
            "  'token_str': 'داستان'},\n",
            " {'score': 0.010210617445409298,\n",
            "  'sequence': 'این کتاب امریکایی ها کجا هستند ؟',\n",
            "  'token': 3511,\n",
            "  'token_str': 'امریکایی'}]\n",
            "------------------------------------------------------------------------------------------\n",
            "[{'score': 0.9409950971603394,\n",
            "  'sequence': 'نمایشگرها بزرگترین مصرفکنندهی انرژی در گوشیهای هوشمند هستند.',\n",
            "  'token': 3831,\n",
            "  'token_str': 'هوشمند'},\n",
            " {'score': 0.039490777999162674,\n",
            "  'sequence': 'نمایشگرها بزرگترین مصرفکنندهی انرژی در گوشیهای همراه هستند.',\n",
            "  'token': 2653,\n",
            "  'token_str': 'همراه'},\n",
            " {'score': 0.009248588234186172,\n",
            "  'sequence': 'نمایشگرها بزرگترین مصرفکنندهی انرژی در گوشیهای موبایل هستند.',\n",
            "  'token': 5035,\n",
            "  'token_str': 'موبایل'},\n",
            " {'score': 0.0017096424708142877,\n",
            "  'sequence': 'نمایشگرها بزرگترین مصرفکنندهی انرژی در گوشیهای امروزی هستند.',\n",
            "  'token': 9109,\n",
            "  'token_str': 'امروزی'},\n",
            " {'score': 0.0015560683095827699,\n",
            "  'sequence': 'نمایشگرها بزرگترین مصرفکنندهی انرژی در گوشیهای اندرویدی هستند.',\n",
            "  'token': 8021,\n",
            "  'token_str': 'اندرویدی'}]\n"
          ],
          "name": "stdout"
        }
      ]
    },
    {
      "cell_type": "code",
      "metadata": {
        "colab": {
          "base_uri": "https://localhost:8080/",
          "height": 834,
          "referenced_widgets": [
            "959cf5e7201047bbaacc35648b0fb6ab",
            "0d6fb0ea8bbe492f8d8e7510a077f1e4",
            "685671e61ed04180af922cc7d6fae042",
            "ecf1112f008e49c48cd1ae25ea0abc97",
            "86a6be51c7d648eeaea0bf6164ffe9e2",
            "eab6ce3c75ca45e5bd8790bd0aba7cd2",
            "d1058509bc2e457aad89cddf21aecdae",
            "465e7068eb2248c4a0dc2569c087ccfd"
          ]
        },
        "id": "DQg-XZ94P40P",
        "outputId": "675482d8-b80d-43f9-febf-5747ffac12d7"
      },
      "source": [
        "nlp_fill = pipeline(\"fill-mask\", model=versions[\"v2.0\"])\n",
        "\n",
        "output = nlp_fill(text1)\n",
        "pprint(output)\n",
        "print('-' * 90)\n",
        "output = nlp_fill(text2)\n",
        "pprint(output)"
      ],
      "execution_count": null,
      "outputs": [
        {
          "output_type": "display_data",
          "data": {
            "application/vnd.jupyter.widget-view+json": {
              "model_id": "959cf5e7201047bbaacc35648b0fb6ab",
              "version_minor": 0,
              "version_major": 2
            },
            "text/plain": [
              "HBox(children=(FloatProgress(value=0.0, description='Downloading', max=654226731.0, style=ProgressStyle(descri…"
            ]
          },
          "metadata": {
            "tags": []
          }
        },
        {
          "output_type": "stream",
          "text": [
            "\n"
          ],
          "name": "stdout"
        },
        {
          "output_type": "stream",
          "text": [
            "Some weights of the model checkpoint at HooshvareLab/bert-fa-base-uncased were not used when initializing BertForMaskedLM: ['cls.seq_relationship.weight', 'cls.seq_relationship.bias']\n",
            "- This IS expected if you are initializing BertForMaskedLM from the checkpoint of a model trained on another task or with another architecture (e.g. initializing a BertForSequenceClassification model from a BertForPreTraining model).\n",
            "- This IS NOT expected if you are initializing BertForMaskedLM from the checkpoint of a model that you expect to be exactly identical (initializing a BertForSequenceClassification model from a BertForSequenceClassification model).\n"
          ],
          "name": "stderr"
        },
        {
          "output_type": "stream",
          "text": [
            "[{'score': 0.06316491216421127,\n",
            "  'sequence': 'این کتاب پرفروش ها کجا هستند ؟',\n",
            "  'token': 13077,\n",
            "  'token_str': 'پرفروش'},\n",
            " {'score': 0.056880172342061996,\n",
            "  'sequence': 'این کتاب کتاب ها کجا هستند ؟',\n",
            "  'token': 3250,\n",
            "  'token_str': 'کتاب'},\n",
            " {'score': 0.03647409379482269,\n",
            "  'sequence': 'این کتاب سال ها کجا هستند ؟',\n",
            "  'token': 2844,\n",
            "  'token_str': 'سال'},\n",
            " {'score': 0.025033805519342422,\n",
            "  'sequence': 'این کتاب - ها کجا هستند ؟',\n",
            "  'token': 1011,\n",
            "  'token_str': '-'},\n",
            " {'score': 0.01697702333331108,\n",
            "  'sequence': 'این کتاب فروشی ها کجا هستند ؟',\n",
            "  'token': 8786,\n",
            "  'token_str': 'فروشی'}]\n",
            "------------------------------------------------------------------------------------------\n",
            "[{'score': 0.9764866232872009,\n",
            "  'sequence': 'نمایشگرها بزرگترین مصرفکنندهی انرژی در گوشیهای هوشمند هستند.',\n",
            "  'token': 4980,\n",
            "  'token_str': 'هوشمند'},\n",
            " {'score': 0.0075789508409798145,\n",
            "  'sequence': 'نمایشگرها بزرگترین مصرفکنندهی انرژی در گوشیهای همراه هستند.',\n",
            "  'token': 3287,\n",
            "  'token_str': 'همراه'},\n",
            " {'score': 0.002027415204793215,\n",
            "  'sequence': 'نمایشگرها بزرگترین مصرفکنندهی انرژی در گوشیهای پیکسل هستند.',\n",
            "  'token': 9550,\n",
            "  'token_str': 'پیکسل'},\n",
            " {'score': 0.0019043352222070098,\n",
            "  'sequence': 'نمایشگرها بزرگترین مصرفکنندهی انرژی در گوشیهای اندرویدی هستند.',\n",
            "  'token': 10937,\n",
            "  'token_str': 'اندرویدی'},\n",
            " {'score': 0.00188945431727916,\n",
            "  'sequence': 'نمایشگرها بزرگترین مصرفکنندهی انرژی در گوشیهای امروزی هستند.',\n",
            "  'token': 7029,\n",
            "  'token_str': 'امروزی'}]\n"
          ],
          "name": "stdout"
        }
      ]
    },
    {
      "cell_type": "code",
      "metadata": {
        "colab": {
          "base_uri": "https://localhost:8080/",
          "height": 851,
          "referenced_widgets": [
            "256c6066879c4e039b00ee94e02cb51b",
            "1cbe23a3c72c407bb029a77fb05532c9",
            "1c0eb94ee8244128a5afa3eaf2af030e",
            "d534f49f5a2441de8d21c1fcdb6692cb",
            "a56be4d13ca6468c846e92e5bd871158",
            "83300e0dc00e4d368d5fc3a4c2984895",
            "fd82f64f93cb49e18a623d751088dc85",
            "549b091d09654515b43a2161662e986a"
          ]
        },
        "id": "90xD2KLoQz6H",
        "outputId": "f9763215-f987-4579-d442-39ecb3ec9177"
      },
      "source": [
        "nlp_fill = pipeline(\"fill-mask\", model=versions[\"v3.0\"])\n",
        "\n",
        "output = nlp_fill(text1)\n",
        "pprint(output)\n",
        "print('-' * 90)\n",
        "output = nlp_fill(text2)\n",
        "pprint(output)"
      ],
      "execution_count": null,
      "outputs": [
        {
          "output_type": "display_data",
          "data": {
            "application/vnd.jupyter.widget-view+json": {
              "model_id": "256c6066879c4e039b00ee94e02cb51b",
              "version_minor": 0,
              "version_major": 2
            },
            "text/plain": [
              "HBox(children=(FloatProgress(value=0.0, description='Downloading', max=473451616.0, style=ProgressStyle(descri…"
            ]
          },
          "metadata": {
            "tags": []
          }
        },
        {
          "output_type": "stream",
          "text": [
            "\n"
          ],
          "name": "stdout"
        },
        {
          "output_type": "stream",
          "text": [
            "Some weights of BertModel were not initialized from the model checkpoint at HooshvareLab/bert-fa-zwnj-base and are newly initialized: ['bert.pooler.dense.weight', 'bert.pooler.dense.bias']\n",
            "You should probably TRAIN this model on a down-stream task to be able to use it for predictions and inference.\n"
          ],
          "name": "stderr"
        },
        {
          "output_type": "stream",
          "text": [
            "[{'score': 0.3467977046966553,\n",
            "  'sequence': 'این کتاب ها کجا هستند ؟',\n",
            "  'token': 9,\n",
            "  'token_str': '[ZWNJ]'},\n",
            " {'score': 0.052707135677337646,\n",
            "  'sequence': 'این کتاب خوان ها کجا هستند ؟',\n",
            "  'token': 3463,\n",
            "  'token_str': 'خوان'},\n",
            " {'score': 0.0424254909157753,\n",
            "  'sequence': 'این کتاب فروشی ها کجا هستند ؟',\n",
            "  'token': 6316,\n",
            "  'token_str': 'فروشی'},\n",
            " {'score': 0.03970666974782944,\n",
            "  'sequence': 'این کتاب بچه ها کجا هستند ؟',\n",
            "  'token': 4321,\n",
            "  'token_str': 'بچه'},\n",
            " {'score': 0.03866000846028328,\n",
            "  'sequence': 'این کتاب نوشته ها کجا هستند ؟',\n",
            "  'token': 3283,\n",
            "  'token_str': 'نوشته'}]\n",
            "------------------------------------------------------------------------------------------\n",
            "[{'score': 0.811574399471283,\n",
            "  'sequence': 'نمایشگرها بزرگترین مصرف کننده ی انرژی در گوشی های هوشمند هستند.',\n",
            "  'token': 2617,\n",
            "  'token_str': 'هوشمند'},\n",
            " {'score': 0.12329542636871338,\n",
            "  'sequence': 'نمایشگرها بزرگترین مصرف کننده ی انرژی در گوشی های موبایل هستند.',\n",
            "  'token': 2984,\n",
            "  'token_str': 'موبایل'},\n",
            " {'score': 0.02344919554889202,\n",
            "  'sequence': 'نمایشگرها بزرگترین مصرف کننده ی انرژی در گوشی های همراه هستند.',\n",
            "  'token': 2376,\n",
            "  'token_str': 'همراه'},\n",
            " {'score': 0.011425173841416836,\n",
            "  'sequence': 'نمایشگرها بزرگترین مصرف کننده ی انرژی در گوشی های اندرویدی '\n",
            "              'هستند.',\n",
            "  'token': 5535,\n",
            "  'token_str': 'اندرویدی'},\n",
            " {'score': 0.0031386197078973055,\n",
            "  'sequence': 'نمایشگرها بزرگترین مصرف کننده ی انرژی در گوشی های اندروید '\n",
            "              'هستند.',\n",
            "  'token': 3362,\n",
            "  'token_str': 'اندروید'}]\n"
          ],
          "name": "stdout"
        }
      ]
    }
  ]
}